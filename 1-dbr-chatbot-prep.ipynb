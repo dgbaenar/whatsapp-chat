{
 "cells": [
  {
   "cell_type": "code",
   "execution_count": 192,
   "metadata": {},
   "outputs": [],
   "source": [
    "import numpy as np\n",
    "import pandas as pd\n",
    "import re"
   ]
  },
  {
   "cell_type": "code",
   "execution_count": 193,
   "metadata": {},
   "outputs": [],
   "source": [
    "def prepare_data(conversations_files, conversations = {}):\n",
    "     for conversation_person, conversation_data in conversations_files.items():\n",
    "          messages = []\n",
    "\n",
    "          with open(f'./data/{conversation_data}', encoding=\"utf-8\") as f:\n",
    "               conversation_messages = f.read()\n",
    "               conversation_messages = conversation_messages.split('\\n')\n",
    "\n",
    "               for value in [re.findall(r'\\[(.*?)\\]\\s*(.*?):\\s*(.*)', conversation) for conversation in conversation_messages]:\n",
    "                    if value:\n",
    "                         messages.append(value[0])\n",
    "\n",
    "          conversations[conversation_person] = messages\n",
    "\n",
    "     return conversations"
   ]
  },
  {
   "cell_type": "code",
   "execution_count": 194,
   "metadata": {},
   "outputs": [],
   "source": [
    "def create_dataframe(conversations, host, dataframes={}):\n",
    "    for key, value in conversations.items():\n",
    "\n",
    "        interactions = {key: [], host: []}\n",
    "        current_person = ''\n",
    "        for date, name, content in value:\n",
    "            if name in interactions:\n",
    "                if name != current_person:\n",
    "                    if interactions[key] and len(interactions[key]) != len(interactions[host]):\n",
    "                        diff = len(interactions[host]) - len(interactions[key])\n",
    "                        interactions[key] += [''] * diff\n",
    "                    current_person = name\n",
    "                    interactions[name].append('')\n",
    "                interactions[name][-1] += ' ' + content.strip()\n",
    "\n",
    "        # Completar con espacios en blanco si los largos no coinciden\n",
    "        if len(interactions[key]) > len(interactions[host]):\n",
    "            diff = len(interactions[key]) - len(interactions[host])\n",
    "            interactions[host].append([''] * diff)\n",
    "        elif len(interactions[key]) < len(interactions[host]):\n",
    "            diff = len(interactions[host]) - len(interactions[key])\n",
    "            interactions[key].append([''] * diff)\n",
    "        \n",
    "        dataframes[key] = pd.DataFrame(interactions)\n",
    "    \n",
    "    df_final = pd.DataFrame(columns=[\"user\", \"prompt\"])\n",
    "\n",
    "    for data in dataframes.values():\n",
    "        data.columns = [\"user\", \"prompt\"]\n",
    "\n",
    "        df_final = pd.concat([df_final, data])\n",
    "    \n",
    "    return df_final\n",
    "\n",
    "\n",
    "def clean_dataframe(df_final):\n",
    "    cases_to_replace = [\n",
    "    \"image omitted\",\n",
    "    \"video omitted\",\n",
    "    \"audio omitted\",\n",
    "    \"sticker omitted\",\n",
    "    \"Messages and calls are end-to-end encrypted. No one outside of this chat, not even WhatsApp, can read or listen to them.\",\n",
    "    \"['']\",\n",
    "    \"\\u200e\"\n",
    "    ]\n",
    "    for case in cases_to_replace:\n",
    "        df_final[\"user\"] = df_final[\"user\"].apply(lambda x: str(x).strip().replace(case, ''))\n",
    "        df_final[\"prompt\"] = df_final[\"prompt\"].apply(lambda x: str(x).strip().replace(case, ''))\n",
    "\n",
    "    df_final[\"user\"] = df_final[\"user\"].apply(lambda x: x.lower())\n",
    "    df_final[\"prompt\"] = df_final[\"prompt\"].apply(lambda x: x.lower())\n",
    "\n",
    "    df_final.replace('', np.nan, inplace=True)\n",
    "    df_final.replace('\\u200e', np.nan, inplace=True)\n",
    "\n",
    "\n",
    "    df_final = df_final.dropna()\n",
    "\n",
    "    return df_final   "
   ]
  },
  {
   "cell_type": "code",
   "execution_count": 195,
   "metadata": {},
   "outputs": [],
   "source": [
    "conversations_files = {\"Daniel Roca EY\": \"_chat_Dani_Roca.txt\", \"Diego Chaparro UNAL\": \"_chat_Diego.txt\",\n",
    "                        \"Juanes Cepeda Primo\" :\"_chat_Juanes.txt\",\n",
    "                         \"Ma\" :\"_chat_ma.txt\", \"Pa\": \"_chat_pa.txt\", \"Sebas Col Puerto\": \"_chat_Sebas.txt\"}\n",
    "\n",
    "conversations = prepare_data(conversations_files)\n",
    "df_final = create_dataframe(conversations, host=\"Daniel\")\n",
    "df_final = clean_dataframe(df_final)"
   ]
  },
  {
   "cell_type": "code",
   "execution_count": 218,
   "metadata": {},
   "outputs": [],
   "source": [
    "instruction = \"\"\" \n",
    "La siguiente es una lista de tuplas que representa la conversación entre dos usuarios.\n",
    "Cada tupla consta de dos elementos donde el primero de cada una contiene el texto\n",
    "del usuario 1 y el otro elemento la respuesta del usuario 2 a aquello dicho por el usuario 1:\n",
    "\"\"\"\n",
    "prompt_engineering = \"\"\"\n",
    ". A partir de ahora eres un chatbot que habla con el mismo estilo de conversación que el usuario 2,\n",
    "otorgando respuestas cortas tal como el usuario 2 lo haría.\n",
    "\"\"\""
   ]
  },
  {
   "cell_type": "code",
   "execution_count": 219,
   "metadata": {},
   "outputs": [],
   "source": [
    "content = (instruction + ' ' + str(tuples_list[:10]) +  ' ' + prompt_engineering).replace(\"\\n\", '')"
   ]
  },
  {
   "cell_type": "code",
   "execution_count": 220,
   "metadata": {},
   "outputs": [],
   "source": [
    "with open('./data/output.txt', 'w') as file:\n",
    "    # Write each tuple to the file\n",
    "    file.write(content)"
   ]
  },
  {
   "cell_type": "code",
   "execution_count": 206,
   "metadata": {},
   "outputs": [],
   "source": [
    "with open('./data/output.txt', 'w') as file:\n",
    "    # Write the content to the file\n",
    "    file.write(content)"
   ]
  },
  {
   "cell_type": "code",
   "execution_count": null,
   "metadata": {},
   "outputs": [],
   "source": []
  }
 ],
 "metadata": {
  "kernelspec": {
   "display_name": "venv",
   "language": "python",
   "name": "python3"
  },
  "language_info": {
   "codemirror_mode": {
    "name": "ipython",
    "version": 3
   },
   "file_extension": ".py",
   "mimetype": "text/x-python",
   "name": "python",
   "nbconvert_exporter": "python",
   "pygments_lexer": "ipython3",
   "version": "3.10.12"
  },
  "orig_nbformat": 4
 },
 "nbformat": 4,
 "nbformat_minor": 2
}
